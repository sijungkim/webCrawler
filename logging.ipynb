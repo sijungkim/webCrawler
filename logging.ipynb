{
 "cells": [
  {
   "cell_type": "code",
   "execution_count": 8,
   "id": "58f9bc0d",
   "metadata": {},
   "outputs": [],
   "source": [
    "import logging\n",
    "\n",
    "# 1. 로거를 먼저 생성\n",
    "# __name__ 를 사용해서 현재 모듈이 이름이 로거의 이름으로 사용됨\n",
    "logger = logging.getLogger(__name__)\n",
    "\n",
    "# 2. 로거의 기본 레벨 설정 (가장 낮은 단계: DEBUG를 설정해야 모든 레벨을 다룰 수 있음)\n",
    "logger.setLevel(logging.DEBUG)\n",
    "\n",
    "# 3. 핸들러 생성\n",
    "# - 콘솔 출력 핸들러\n",
    "stream_handler = logging.StreamHandler()\n",
    "st_stream_handler = logging.StreamHandler() \n",
    "st_stream_handler.setLevel(logging.INFO)\n",
    "# - 파일로 저장하는 핸들러\n",
    "file_handler = logging.FileHandler('crawler.log')\n",
    "\n",
    "# 4. 포메터 생성\n",
    "# - %()s, 여기에서 s 는 문제열을 지칭\n",
    "formatter = logging.Formatter('%(asctime)s - %(name)s - %(levelname)s - %(message)s')\n",
    "st_formatter = logging.Formatter('%(name)s - %(message)s')\n",
    "\n",
    "# 5. 핸들러에 포메터 적용\n",
    "stream_handler.setFormatter(formatter)\n",
    "st_stream_handler.setFormatter(st_formatter)\n",
    "file_handler.setFormatter(formatter)\n",
    "\n",
    "# 6. 로거에 핸들러 추가\n",
    "logger.addHandler(stream_handler)\n",
    "logger.addHandler(st_stream_handler)\n",
    "logger.addHandler(file_handler)"
   ]
  },
  {
   "cell_type": "code",
   "execution_count": 6,
   "id": "05682c0b",
   "metadata": {},
   "outputs": [],
   "source": [
    "def a_function():\n",
    "    logger.debug(\"디버그\")\n",
    "    logger.info(\"프린트 대신\")\n",
    "    logger.warning(\"디스크 공간 부족\")\n",
    "    try:\n",
    "        result = 1/1\n",
    "    except ZeroDivisionError:\n",
    "        logger.error(\"0으로 나누기 에러 \", exc_info=True) #exc_info=True 로 에러 상세정보 추가"
   ]
  },
  {
   "cell_type": "code",
   "execution_count": 7,
   "id": "87d5ebc3",
   "metadata": {},
   "outputs": [
    {
     "name": "stderr",
     "output_type": "stream",
     "text": [
      "2025-07-04 11:36:50,097 - __main__ - DEBUG - 디버그\n",
      "__main__ - 디버그\n",
      "2025-07-04 11:36:50,098 - __main__ - INFO - 프린트 대신\n",
      "__main__ - 프린트 대신\n",
      "2025-07-04 11:36:50,099 - __main__ - WARNING - 디스크 공간 부족\n",
      "__main__ - 디스크 공간 부족\n"
     ]
    }
   ],
   "source": [
    "a_function()"
   ]
  }
 ],
 "metadata": {
  "kernelspec": {
   "display_name": "mywork",
   "language": "python",
   "name": "python3"
  },
  "language_info": {
   "codemirror_mode": {
    "name": "ipython",
    "version": 3
   },
   "file_extension": ".py",
   "mimetype": "text/x-python",
   "name": "python",
   "nbconvert_exporter": "python",
   "pygments_lexer": "ipython3",
   "version": "3.12.11"
  }
 },
 "nbformat": 4,
 "nbformat_minor": 5
}
