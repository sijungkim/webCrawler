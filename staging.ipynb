{
 "cells": [
  {
   "cell_type": "code",
   "execution_count": null,
   "id": "6abfdfb5",
   "metadata": {},
   "outputs": [],
   "source": [
    "from wsgiref import headers\n",
    "from bs4 import BeautifulSoup\n",
    "import requests\n",
    "from urllib.parse import urljoin\n",
    "# import pandas as pd # 너무 부담이 큼... 이정도의 프로그램에서 굳이 판다스 필요없음. 레서팬더정도면 충분 :-)\n",
    "from os import write\n",
    "import streamlit as st"
   ]
  },
  {
   "cell_type": "code",
   "execution_count": null,
   "id": "2d79c15b",
   "metadata": {},
   "outputs": [],
   "source": [
    "class Crawler:\n",
    "    def __init__(self, url):\n",
    "        self.base_url = url\n",
    "        self.visited_url = set()\n",
    "        self.discovered_url = set()\n",
    "        self.unavailable_url = set()\n",
    "\n",
    "    def crawl(self):\n",
    "        # 만일 베이스 url이 비어있다면??? 그런 상황이 벌어질수 있나??? 없다! 객체를 만들때 필수조건이고 없으면 만들지도 못함.\n",
    "        # current_url = self.base_url # 여기서 굳이 이런거 할 필요없음... 이건 아래항의 중복.\n",
    "        self.discovered_url.add(self.base_url) # current_url {} 안에 넣치 않을꺼면 .add() 써야함\n",
    "        while url_to_visit := self.discovered_url - self.visited_url - self.unavailable_url:\n",
    "            current_url = url_to_visit.pop()\n",
    "            # print(current_url)\n",
    "            header = {\n",
    "                \"User-Agent\": \"Mozilla/5.0 (Windows NT 10.0; Win64; x64) AppleWebKit/537.36 (KHTML, like Gecko) Chrome/91.0.4472.124 Safari/537.36\"\n",
    "            }\n",
    "            try:\n",
    "                res = requests.get(current_url, headers=header, timeout=100)\n",
    "                # 실패하고 말건 어차피 현재 url은 다신 안돌아갈꺼니깐 \n",
    "                res.raise_for_status()\n",
    "                self.visited_url.add(current_url)\n",
    "            except requests.exceptions.RequestException as e:\n",
    "                print(f\"not able to fetch: {current_url}, with following reason: \")\n",
    "                self.unavailable_url.add(current_url)\n",
    "                print(e)\n",
    "            \n",
    "            soup = BeautifulSoup(res.content, 'html.parser')\n",
    "            a_list = soup.select('a')\n",
    "\n",
    "            for link in a_list:\n",
    "                url_link = urljoin(self.base_url, link.get('href'))\n",
    "                self.discovered_url.add(url_link)\n",
    "\n",
    "            self._dump_result()\n",
    "            st.write(current_url)\n",
    "    \n",
    "    def _dump_result(self):\n",
    "        url_list = {\n",
    "            \"discovered\": self.discovered_url, \n",
    "            \"visited\": self.visited_url, \n",
    "            \"unavailable\": self.unavailable_url,\n",
    "            }\n",
    "        for key, val in url_list.items():\n",
    "            # 나중에 PATH 선택하는 것도 추가\n",
    "            with open(f'{key}.txt', 'w', encoding='utf-8') as f:\n",
    "                f.write('\\n'.join(val))\n",
    "\n",
    "    def import_last_result(self, discovered, visited, unavailable):\n",
    "        try:            \n",
    "            with open(file=discovered, mode='r', encoding='utf-8') as f:\n",
    "                self.discovered_url = set(f.read().split('\\n'))\n",
    "            with open(file=visited, mode='r', encoding='utf-8') as f:\n",
    "                self.visited_url = set(f.read().split('\\n'))\n",
    "            with open(file=unavailable, mode='r', encoding='utf-8') as f:\n",
    "                self.unavailable_url = set(f.read().split('\\n'))\n",
    "        except Exception as e:\n",
    "            print(e)"
   ]
  },
  {
   "cell_type": "code",
   "execution_count": null,
   "id": "abe67aa9",
   "metadata": {},
   "outputs": [],
   "source": [
    "scraper = Crawler('http://books.toscrape.com')\n",
    "scraper.crawl()"
   ]
  },
  {
   "cell_type": "code",
   "execution_count": null,
   "id": "f44c8f99",
   "metadata": {},
   "outputs": [],
   "source": [
    "scraper.import_last_result('discovered.txt', 'visited.txt', 'unavailable.txt')"
   ]
  }
 ],
 "metadata": {
  "kernelspec": {
   "display_name": "mywork",
   "language": "python",
   "name": "python3"
  },
  "language_info": {
   "codemirror_mode": {
    "name": "ipython",
    "version": 3
   },
   "file_extension": ".py",
   "mimetype": "text/x-python",
   "name": "python",
   "nbconvert_exporter": "python",
   "pygments_lexer": "ipython3",
   "version": "3.12.11"
  }
 },
 "nbformat": 4,
 "nbformat_minor": 5
}
